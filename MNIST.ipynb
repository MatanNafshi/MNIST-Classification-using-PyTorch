{
  "nbformat": 4,
  "nbformat_minor": 0,
  "metadata": {
    "colab": {
      "provenance": []
    },
    "kernelspec": {
      "name": "python3",
      "display_name": "Python 3"
    },
    "language_info": {
      "name": "python"
    }
  },
  "cells": [
    {
      "cell_type": "code",
      "execution_count": 19,
      "metadata": {
        "id": "4Aw3TdQ7sM2p"
      },
      "outputs": [],
      "source": [
        "from torchvision import datasets\n",
        "from torchvision.transforms import ToTensor\n",
        "from torch.utils.data import DataLoader\n",
        "import torch.nn as nn\n",
        "import torch.nn.functional as F\n",
        "import torch.optim as optim\n",
        "import torch\n",
        "import matplotlib.pyplot as plt"
      ]
    },
    {
      "cell_type": "code",
      "source": [
        "train_data = datasets.MNIST(\n",
        "    root = 'data',\n",
        "    train = True,\n",
        "    transform = ToTensor(),\n",
        "    download = True\n",
        ")\n",
        "\n",
        "test_data = datasets.MNIST(\n",
        "    root = 'data',\n",
        "    train = False,\n",
        "    transform = ToTensor(),\n",
        "    download = True\n",
        ")\n"
      ],
      "metadata": {
        "colab": {
          "base_uri": "https://localhost:8080/"
        },
        "id": "1Qy-R0RUsUuX",
        "outputId": "ea444afb-42dd-4ce1-dad2-e32e6ce854c9"
      },
      "execution_count": 2,
      "outputs": [
        {
          "output_type": "stream",
          "name": "stdout",
          "text": [
            "Downloading http://yann.lecun.com/exdb/mnist/train-images-idx3-ubyte.gz\n",
            "Failed to download (trying next):\n",
            "<urlopen error [Errno 111] Connection refused>\n",
            "\n",
            "Downloading https://ossci-datasets.s3.amazonaws.com/mnist/train-images-idx3-ubyte.gz\n",
            "Downloading https://ossci-datasets.s3.amazonaws.com/mnist/train-images-idx3-ubyte.gz to data/MNIST/raw/train-images-idx3-ubyte.gz\n"
          ]
        },
        {
          "output_type": "stream",
          "name": "stderr",
          "text": [
            "100%|██████████| 9.91M/9.91M [00:00<00:00, 52.8MB/s]\n"
          ]
        },
        {
          "output_type": "stream",
          "name": "stdout",
          "text": [
            "Extracting data/MNIST/raw/train-images-idx3-ubyte.gz to data/MNIST/raw\n",
            "\n",
            "Downloading http://yann.lecun.com/exdb/mnist/train-labels-idx1-ubyte.gz\n",
            "Failed to download (trying next):\n",
            "<urlopen error [Errno 111] Connection refused>\n",
            "\n",
            "Downloading https://ossci-datasets.s3.amazonaws.com/mnist/train-labels-idx1-ubyte.gz\n",
            "Downloading https://ossci-datasets.s3.amazonaws.com/mnist/train-labels-idx1-ubyte.gz to data/MNIST/raw/train-labels-idx1-ubyte.gz\n"
          ]
        },
        {
          "output_type": "stream",
          "name": "stderr",
          "text": [
            "100%|██████████| 28.9k/28.9k [00:00<00:00, 1.73MB/s]\n"
          ]
        },
        {
          "output_type": "stream",
          "name": "stdout",
          "text": [
            "Extracting data/MNIST/raw/train-labels-idx1-ubyte.gz to data/MNIST/raw\n",
            "\n",
            "Downloading http://yann.lecun.com/exdb/mnist/t10k-images-idx3-ubyte.gz\n",
            "Failed to download (trying next):\n",
            "<urlopen error [Errno 111] Connection refused>\n",
            "\n",
            "Downloading https://ossci-datasets.s3.amazonaws.com/mnist/t10k-images-idx3-ubyte.gz\n",
            "Downloading https://ossci-datasets.s3.amazonaws.com/mnist/t10k-images-idx3-ubyte.gz to data/MNIST/raw/t10k-images-idx3-ubyte.gz\n"
          ]
        },
        {
          "output_type": "stream",
          "name": "stderr",
          "text": [
            "100%|██████████| 1.65M/1.65M [00:00<00:00, 14.4MB/s]\n"
          ]
        },
        {
          "output_type": "stream",
          "name": "stdout",
          "text": [
            "Extracting data/MNIST/raw/t10k-images-idx3-ubyte.gz to data/MNIST/raw\n",
            "\n",
            "Downloading http://yann.lecun.com/exdb/mnist/t10k-labels-idx1-ubyte.gz\n",
            "Failed to download (trying next):\n",
            "<urlopen error [Errno 111] Connection refused>\n",
            "\n",
            "Downloading https://ossci-datasets.s3.amazonaws.com/mnist/t10k-labels-idx1-ubyte.gz\n",
            "Downloading https://ossci-datasets.s3.amazonaws.com/mnist/t10k-labels-idx1-ubyte.gz to data/MNIST/raw/t10k-labels-idx1-ubyte.gz\n"
          ]
        },
        {
          "output_type": "stream",
          "name": "stderr",
          "text": [
            "100%|██████████| 4.54k/4.54k [00:00<00:00, 4.25MB/s]"
          ]
        },
        {
          "output_type": "stream",
          "name": "stdout",
          "text": [
            "Extracting data/MNIST/raw/t10k-labels-idx1-ubyte.gz to data/MNIST/raw\n",
            "\n"
          ]
        },
        {
          "output_type": "stream",
          "name": "stderr",
          "text": [
            "\n"
          ]
        }
      ]
    },
    {
      "cell_type": "code",
      "source": [
        "train_data"
      ],
      "metadata": {
        "colab": {
          "base_uri": "https://localhost:8080/"
        },
        "id": "-ATjbZ_Xso9g",
        "outputId": "9ee12595-310d-466c-93a3-1c8e7abdaf37"
      },
      "execution_count": 3,
      "outputs": [
        {
          "output_type": "execute_result",
          "data": {
            "text/plain": [
              "Dataset MNIST\n",
              "    Number of datapoints: 60000\n",
              "    Root location: data\n",
              "    Split: Train\n",
              "    StandardTransform\n",
              "Transform: ToTensor()"
            ]
          },
          "metadata": {},
          "execution_count": 3
        }
      ]
    },
    {
      "cell_type": "code",
      "source": [
        "test_data"
      ],
      "metadata": {
        "colab": {
          "base_uri": "https://localhost:8080/"
        },
        "id": "eM4ne2USsqDj",
        "outputId": "b0b4189e-563e-41ce-87ad-5874da029129"
      },
      "execution_count": 4,
      "outputs": [
        {
          "output_type": "execute_result",
          "data": {
            "text/plain": [
              "Dataset MNIST\n",
              "    Number of datapoints: 10000\n",
              "    Root location: data\n",
              "    Split: Test\n",
              "    StandardTransform\n",
              "Transform: ToTensor()"
            ]
          },
          "metadata": {},
          "execution_count": 4
        }
      ]
    },
    {
      "cell_type": "code",
      "source": [
        "train_data.data"
      ],
      "metadata": {
        "colab": {
          "base_uri": "https://localhost:8080/"
        },
        "id": "mdrOZ-nosrCd",
        "outputId": "f65f8f63-24c9-4323-f12f-ba7c40348c6e"
      },
      "execution_count": 5,
      "outputs": [
        {
          "output_type": "execute_result",
          "data": {
            "text/plain": [
              "tensor([[[0, 0, 0,  ..., 0, 0, 0],\n",
              "         [0, 0, 0,  ..., 0, 0, 0],\n",
              "         [0, 0, 0,  ..., 0, 0, 0],\n",
              "         ...,\n",
              "         [0, 0, 0,  ..., 0, 0, 0],\n",
              "         [0, 0, 0,  ..., 0, 0, 0],\n",
              "         [0, 0, 0,  ..., 0, 0, 0]],\n",
              "\n",
              "        [[0, 0, 0,  ..., 0, 0, 0],\n",
              "         [0, 0, 0,  ..., 0, 0, 0],\n",
              "         [0, 0, 0,  ..., 0, 0, 0],\n",
              "         ...,\n",
              "         [0, 0, 0,  ..., 0, 0, 0],\n",
              "         [0, 0, 0,  ..., 0, 0, 0],\n",
              "         [0, 0, 0,  ..., 0, 0, 0]],\n",
              "\n",
              "        [[0, 0, 0,  ..., 0, 0, 0],\n",
              "         [0, 0, 0,  ..., 0, 0, 0],\n",
              "         [0, 0, 0,  ..., 0, 0, 0],\n",
              "         ...,\n",
              "         [0, 0, 0,  ..., 0, 0, 0],\n",
              "         [0, 0, 0,  ..., 0, 0, 0],\n",
              "         [0, 0, 0,  ..., 0, 0, 0]],\n",
              "\n",
              "        ...,\n",
              "\n",
              "        [[0, 0, 0,  ..., 0, 0, 0],\n",
              "         [0, 0, 0,  ..., 0, 0, 0],\n",
              "         [0, 0, 0,  ..., 0, 0, 0],\n",
              "         ...,\n",
              "         [0, 0, 0,  ..., 0, 0, 0],\n",
              "         [0, 0, 0,  ..., 0, 0, 0],\n",
              "         [0, 0, 0,  ..., 0, 0, 0]],\n",
              "\n",
              "        [[0, 0, 0,  ..., 0, 0, 0],\n",
              "         [0, 0, 0,  ..., 0, 0, 0],\n",
              "         [0, 0, 0,  ..., 0, 0, 0],\n",
              "         ...,\n",
              "         [0, 0, 0,  ..., 0, 0, 0],\n",
              "         [0, 0, 0,  ..., 0, 0, 0],\n",
              "         [0, 0, 0,  ..., 0, 0, 0]],\n",
              "\n",
              "        [[0, 0, 0,  ..., 0, 0, 0],\n",
              "         [0, 0, 0,  ..., 0, 0, 0],\n",
              "         [0, 0, 0,  ..., 0, 0, 0],\n",
              "         ...,\n",
              "         [0, 0, 0,  ..., 0, 0, 0],\n",
              "         [0, 0, 0,  ..., 0, 0, 0],\n",
              "         [0, 0, 0,  ..., 0, 0, 0]]], dtype=torch.uint8)"
            ]
          },
          "metadata": {},
          "execution_count": 5
        }
      ]
    },
    {
      "cell_type": "code",
      "source": [
        "train_data.data.shape"
      ],
      "metadata": {
        "colab": {
          "base_uri": "https://localhost:8080/"
        },
        "id": "0Z8P3mnBsvAJ",
        "outputId": "7db35e37-60d8-49ff-b389-0772e7b00baa"
      },
      "execution_count": 6,
      "outputs": [
        {
          "output_type": "execute_result",
          "data": {
            "text/plain": [
              "torch.Size([60000, 28, 28])"
            ]
          },
          "metadata": {},
          "execution_count": 6
        }
      ]
    },
    {
      "cell_type": "code",
      "source": [
        "test_data.data.shape"
      ],
      "metadata": {
        "colab": {
          "base_uri": "https://localhost:8080/"
        },
        "id": "pH0S9n48syA6",
        "outputId": "39a6c0fe-030a-4873-fd96-eeb40d5b65f8"
      },
      "execution_count": 7,
      "outputs": [
        {
          "output_type": "execute_result",
          "data": {
            "text/plain": [
              "torch.Size([10000, 28, 28])"
            ]
          },
          "metadata": {},
          "execution_count": 7
        }
      ]
    },
    {
      "cell_type": "code",
      "source": [
        "train_data.targets.size()"
      ],
      "metadata": {
        "colab": {
          "base_uri": "https://localhost:8080/"
        },
        "id": "LszZnzmPs6wn",
        "outputId": "4dc530ca-2944-4fa5-8b23-5b719c6ec4c9"
      },
      "execution_count": 8,
      "outputs": [
        {
          "output_type": "execute_result",
          "data": {
            "text/plain": [
              "torch.Size([60000])"
            ]
          },
          "metadata": {},
          "execution_count": 8
        }
      ]
    },
    {
      "cell_type": "code",
      "source": [
        "train_data.targets"
      ],
      "metadata": {
        "colab": {
          "base_uri": "https://localhost:8080/"
        },
        "id": "Ownl1iejs8fr",
        "outputId": "a60c59dd-9dfb-4cb6-9796-08353a4cf29d"
      },
      "execution_count": 9,
      "outputs": [
        {
          "output_type": "execute_result",
          "data": {
            "text/plain": [
              "tensor([5, 0, 4,  ..., 5, 6, 8])"
            ]
          },
          "metadata": {},
          "execution_count": 9
        }
      ]
    },
    {
      "cell_type": "code",
      "source": [
        "loaders = {\n",
        "    'train' : DataLoader(train_data, batch_size=100, shuffle=True, num_workers=1),\n",
        "    'test' : DataLoader(test_data, batch_size=100, shuffle=True, num_workers=1)\n",
        "}"
      ],
      "metadata": {
        "id": "pawCFrrGs_oR"
      },
      "execution_count": 11,
      "outputs": []
    },
    {
      "cell_type": "code",
      "source": [
        "loaders"
      ],
      "metadata": {
        "colab": {
          "base_uri": "https://localhost:8080/"
        },
        "id": "dOaj_FuntT7k",
        "outputId": "05fbe594-ad5e-4cc8-f9ee-4755f915fef9"
      },
      "execution_count": 12,
      "outputs": [
        {
          "output_type": "execute_result",
          "data": {
            "text/plain": [
              "{'train': <torch.utils.data.dataloader.DataLoader at 0x7cc04b3fd310>,\n",
              " 'test': <torch.utils.data.dataloader.DataLoader at 0x7cc0431aced0>}"
            ]
          },
          "metadata": {},
          "execution_count": 12
        }
      ]
    },
    {
      "cell_type": "code",
      "source": [
        "class CNN(nn.Module):\n",
        "  def __init__(self):\n",
        "    super(CNN, self).__init__()\n",
        "\n",
        "    self.conv1 = nn.Conv2d(1, 10, kernel_size=5)\n",
        "    self.conv2 = nn.Conv2d(10, 20, kernel_size=5)\n",
        "    self.conv2_drop = nn.Dropout2d()\n",
        "    self.fc1 = nn.Linear(320, 50)\n",
        "    self.fc2 = nn.Linear(50, 10)\n",
        "\n",
        "  def forward(self, x):\n",
        "    x = F.relu(F.max_pool2d(self.conv1(x), 2))\n",
        "    x = F.relu(F.max_pool2d(self.conv2_drop(self.conv2(x)), 2))\n",
        "    x = x.view(-1, 320) # 20*4*4\n",
        "    x = F.relu(self.fc1(x))\n",
        "    x = F.dropout(x, training=self.training)\n",
        "    x = self.fc2(x)\n",
        "\n",
        "    return F.softmax(x)"
      ],
      "metadata": {
        "id": "XYEyOOtRtUx2"
      },
      "execution_count": 14,
      "outputs": []
    },
    {
      "cell_type": "code",
      "source": [
        "device = torch.device(\"cuda\" if torch.cuda.is_available() else \"cpu\")\n",
        "\n",
        "model = CNN().to(device)\n",
        "\n",
        "optimizer = optim.Adam(model.parameters(), lr=0.001)\n",
        "\n",
        "loss_fn = nn.CrossEntropyLoss()\n",
        "\n",
        "def train(epoch):\n",
        "  model.train()\n",
        "  for batch_idx, (data, target) in enumerate(loaders['train']):\n",
        "    data, target = data.to(device), target.to(device)\n",
        "    optimizer.zero_grad()\n",
        "    output = model(data)\n",
        "    loss = loss_fn(output, target)\n",
        "    loss.backward()\n",
        "    optimizer.step()\n",
        "    if batch_idx % 20 == 0:\n",
        "      print(f'Train Epoch: {epoch} [{batch_idx * len(data)}/{len(loaders[\"train\"].dataset)} ({100. * batch_idx / len(loaders[\"train\"]):.0f}%)]\\tLoss: {loss.item():.6f}')\n",
        "\n",
        "def test():\n",
        "  model.eval()\n",
        "\n",
        "  test_loss = 0\n",
        "  correct = 0\n",
        "\n",
        "  with torch.no_grad():\n",
        "    for data, target in loaders['test']:\n",
        "      data, target = data.to(device), target.to(device)\n",
        "      output = model(data)\n",
        "      test_loss += loss_fn(output, target).item()\n",
        "      pred = output.argmax(dim=1, keepdim=True)\n",
        "      correct += pred.eq(target.view_as(pred)).sum().item()\n",
        "\n",
        "  test_loss /= len(loaders['test'].dataset)\n",
        "  print(f'\\nTest set: Average loss: {test_loss:.4f}, Accuracy: {correct}/{len(loaders[\"test\"].dataset)} ({100. * correct / len(loaders[\"test\"].dataset):.0f}%)\\n')"
      ],
      "metadata": {
        "id": "uXB-7v7DvGIp"
      },
      "execution_count": 16,
      "outputs": []
    },
    {
      "cell_type": "code",
      "source": [
        "for epoch in range(1, 11):\n",
        "  train(epoch)\n",
        "  test()"
      ],
      "metadata": {
        "colab": {
          "base_uri": "https://localhost:8080/"
        },
        "id": "vwpFJv60zyVK",
        "outputId": "0874b4cc-2b27-4efb-81ae-b34b596e8409"
      },
      "execution_count": 17,
      "outputs": [
        {
          "output_type": "stream",
          "name": "stderr",
          "text": [
            "<ipython-input-14-4a31a2b00701>:19: UserWarning: Implicit dimension choice for softmax has been deprecated. Change the call to include dim=X as an argument.\n",
            "  return F.softmax(x)\n"
          ]
        },
        {
          "output_type": "stream",
          "name": "stdout",
          "text": [
            "Train Epoch: 1 [0/60000 (0%)]\tLoss: 2.302024\n",
            "Train Epoch: 1 [2000/60000 (3%)]\tLoss: 2.292361\n",
            "Train Epoch: 1 [4000/60000 (7%)]\tLoss: 2.182533\n",
            "Train Epoch: 1 [6000/60000 (10%)]\tLoss: 1.974301\n",
            "Train Epoch: 1 [8000/60000 (13%)]\tLoss: 1.946128\n",
            "Train Epoch: 1 [10000/60000 (17%)]\tLoss: 1.880350\n",
            "Train Epoch: 1 [12000/60000 (20%)]\tLoss: 1.845644\n",
            "Train Epoch: 1 [14000/60000 (23%)]\tLoss: 1.812573\n",
            "Train Epoch: 1 [16000/60000 (27%)]\tLoss: 1.795210\n",
            "Train Epoch: 1 [18000/60000 (30%)]\tLoss: 1.801531\n",
            "Train Epoch: 1 [20000/60000 (33%)]\tLoss: 1.778521\n",
            "Train Epoch: 1 [22000/60000 (37%)]\tLoss: 1.794229\n",
            "Train Epoch: 1 [24000/60000 (40%)]\tLoss: 1.735305\n",
            "Train Epoch: 1 [26000/60000 (43%)]\tLoss: 1.717419\n",
            "Train Epoch: 1 [28000/60000 (47%)]\tLoss: 1.765956\n",
            "Train Epoch: 1 [30000/60000 (50%)]\tLoss: 1.668525\n",
            "Train Epoch: 1 [32000/60000 (53%)]\tLoss: 1.630086\n",
            "Train Epoch: 1 [34000/60000 (57%)]\tLoss: 1.688626\n",
            "Train Epoch: 1 [36000/60000 (60%)]\tLoss: 1.631706\n",
            "Train Epoch: 1 [38000/60000 (63%)]\tLoss: 1.647059\n",
            "Train Epoch: 1 [40000/60000 (67%)]\tLoss: 1.655195\n",
            "Train Epoch: 1 [42000/60000 (70%)]\tLoss: 1.639091\n",
            "Train Epoch: 1 [44000/60000 (73%)]\tLoss: 1.662022\n",
            "Train Epoch: 1 [46000/60000 (77%)]\tLoss: 1.636959\n",
            "Train Epoch: 1 [48000/60000 (80%)]\tLoss: 1.653024\n",
            "Train Epoch: 1 [50000/60000 (83%)]\tLoss: 1.550933\n",
            "Train Epoch: 1 [52000/60000 (87%)]\tLoss: 1.600098\n",
            "Train Epoch: 1 [54000/60000 (90%)]\tLoss: 1.622193\n",
            "Train Epoch: 1 [56000/60000 (93%)]\tLoss: 1.585680\n",
            "Train Epoch: 1 [58000/60000 (97%)]\tLoss: 1.646637\n",
            "\n",
            "Test set: Average loss: 0.0153, Accuracy: 9308/10000 (93%)\n",
            "\n",
            "Train Epoch: 2 [0/60000 (0%)]\tLoss: 1.640273\n",
            "Train Epoch: 2 [2000/60000 (3%)]\tLoss: 1.618941\n",
            "Train Epoch: 2 [4000/60000 (7%)]\tLoss: 1.572844\n",
            "Train Epoch: 2 [6000/60000 (10%)]\tLoss: 1.601550\n",
            "Train Epoch: 2 [8000/60000 (13%)]\tLoss: 1.604429\n",
            "Train Epoch: 2 [10000/60000 (17%)]\tLoss: 1.595481\n",
            "Train Epoch: 2 [12000/60000 (20%)]\tLoss: 1.559192\n",
            "Train Epoch: 2 [14000/60000 (23%)]\tLoss: 1.562843\n",
            "Train Epoch: 2 [16000/60000 (27%)]\tLoss: 1.608710\n",
            "Train Epoch: 2 [18000/60000 (30%)]\tLoss: 1.575336\n",
            "Train Epoch: 2 [20000/60000 (33%)]\tLoss: 1.619937\n",
            "Train Epoch: 2 [22000/60000 (37%)]\tLoss: 1.596872\n",
            "Train Epoch: 2 [24000/60000 (40%)]\tLoss: 1.611690\n",
            "Train Epoch: 2 [26000/60000 (43%)]\tLoss: 1.570811\n",
            "Train Epoch: 2 [28000/60000 (47%)]\tLoss: 1.575043\n",
            "Train Epoch: 2 [30000/60000 (50%)]\tLoss: 1.559796\n",
            "Train Epoch: 2 [32000/60000 (53%)]\tLoss: 1.585506\n",
            "Train Epoch: 2 [34000/60000 (57%)]\tLoss: 1.612834\n",
            "Train Epoch: 2 [36000/60000 (60%)]\tLoss: 1.564622\n",
            "Train Epoch: 2 [38000/60000 (63%)]\tLoss: 1.600222\n",
            "Train Epoch: 2 [40000/60000 (67%)]\tLoss: 1.587939\n",
            "Train Epoch: 2 [42000/60000 (70%)]\tLoss: 1.603554\n",
            "Train Epoch: 2 [44000/60000 (73%)]\tLoss: 1.544782\n",
            "Train Epoch: 2 [46000/60000 (77%)]\tLoss: 1.572695\n",
            "Train Epoch: 2 [48000/60000 (80%)]\tLoss: 1.547570\n",
            "Train Epoch: 2 [50000/60000 (83%)]\tLoss: 1.539976\n",
            "Train Epoch: 2 [52000/60000 (87%)]\tLoss: 1.615410\n",
            "Train Epoch: 2 [54000/60000 (90%)]\tLoss: 1.518959\n",
            "Train Epoch: 2 [56000/60000 (93%)]\tLoss: 1.558587\n",
            "Train Epoch: 2 [58000/60000 (97%)]\tLoss: 1.564617\n",
            "\n",
            "Test set: Average loss: 0.0151, Accuracy: 9487/10000 (95%)\n",
            "\n",
            "Train Epoch: 3 [0/60000 (0%)]\tLoss: 1.556596\n",
            "Train Epoch: 3 [2000/60000 (3%)]\tLoss: 1.537559\n",
            "Train Epoch: 3 [4000/60000 (7%)]\tLoss: 1.568410\n",
            "Train Epoch: 3 [6000/60000 (10%)]\tLoss: 1.580412\n",
            "Train Epoch: 3 [8000/60000 (13%)]\tLoss: 1.587803\n",
            "Train Epoch: 3 [10000/60000 (17%)]\tLoss: 1.561601\n",
            "Train Epoch: 3 [12000/60000 (20%)]\tLoss: 1.540470\n",
            "Train Epoch: 3 [14000/60000 (23%)]\tLoss: 1.587342\n",
            "Train Epoch: 3 [16000/60000 (27%)]\tLoss: 1.590452\n",
            "Train Epoch: 3 [18000/60000 (30%)]\tLoss: 1.592777\n",
            "Train Epoch: 3 [20000/60000 (33%)]\tLoss: 1.568634\n",
            "Train Epoch: 3 [22000/60000 (37%)]\tLoss: 1.575785\n",
            "Train Epoch: 3 [24000/60000 (40%)]\tLoss: 1.577958\n",
            "Train Epoch: 3 [26000/60000 (43%)]\tLoss: 1.598834\n",
            "Train Epoch: 3 [28000/60000 (47%)]\tLoss: 1.538601\n",
            "Train Epoch: 3 [30000/60000 (50%)]\tLoss: 1.559712\n",
            "Train Epoch: 3 [32000/60000 (53%)]\tLoss: 1.607469\n",
            "Train Epoch: 3 [34000/60000 (57%)]\tLoss: 1.574960\n",
            "Train Epoch: 3 [36000/60000 (60%)]\tLoss: 1.594083\n",
            "Train Epoch: 3 [38000/60000 (63%)]\tLoss: 1.562317\n",
            "Train Epoch: 3 [40000/60000 (67%)]\tLoss: 1.528332\n",
            "Train Epoch: 3 [42000/60000 (70%)]\tLoss: 1.538574\n",
            "Train Epoch: 3 [44000/60000 (73%)]\tLoss: 1.555082\n",
            "Train Epoch: 3 [46000/60000 (77%)]\tLoss: 1.610965\n",
            "Train Epoch: 3 [48000/60000 (80%)]\tLoss: 1.564698\n",
            "Train Epoch: 3 [50000/60000 (83%)]\tLoss: 1.526400\n",
            "Train Epoch: 3 [52000/60000 (87%)]\tLoss: 1.521217\n",
            "Train Epoch: 3 [54000/60000 (90%)]\tLoss: 1.531669\n",
            "Train Epoch: 3 [56000/60000 (93%)]\tLoss: 1.496853\n",
            "Train Epoch: 3 [58000/60000 (97%)]\tLoss: 1.592857\n",
            "\n",
            "Test set: Average loss: 0.0151, Accuracy: 9537/10000 (95%)\n",
            "\n",
            "Train Epoch: 4 [0/60000 (0%)]\tLoss: 1.536780\n",
            "Train Epoch: 4 [2000/60000 (3%)]\tLoss: 1.558784\n",
            "Train Epoch: 4 [4000/60000 (7%)]\tLoss: 1.587911\n",
            "Train Epoch: 4 [6000/60000 (10%)]\tLoss: 1.533178\n",
            "Train Epoch: 4 [8000/60000 (13%)]\tLoss: 1.562791\n",
            "Train Epoch: 4 [10000/60000 (17%)]\tLoss: 1.570170\n",
            "Train Epoch: 4 [12000/60000 (20%)]\tLoss: 1.540473\n",
            "Train Epoch: 4 [14000/60000 (23%)]\tLoss: 1.606699\n",
            "Train Epoch: 4 [16000/60000 (27%)]\tLoss: 1.537132\n",
            "Train Epoch: 4 [18000/60000 (30%)]\tLoss: 1.569247\n",
            "Train Epoch: 4 [20000/60000 (33%)]\tLoss: 1.567087\n",
            "Train Epoch: 4 [22000/60000 (37%)]\tLoss: 1.561397\n",
            "Train Epoch: 4 [24000/60000 (40%)]\tLoss: 1.558779\n",
            "Train Epoch: 4 [26000/60000 (43%)]\tLoss: 1.553570\n",
            "Train Epoch: 4 [28000/60000 (47%)]\tLoss: 1.541466\n",
            "Train Epoch: 4 [30000/60000 (50%)]\tLoss: 1.538421\n",
            "Train Epoch: 4 [32000/60000 (53%)]\tLoss: 1.596093\n",
            "Train Epoch: 4 [34000/60000 (57%)]\tLoss: 1.555194\n",
            "Train Epoch: 4 [36000/60000 (60%)]\tLoss: 1.550049\n",
            "Train Epoch: 4 [38000/60000 (63%)]\tLoss: 1.538767\n",
            "Train Epoch: 4 [40000/60000 (67%)]\tLoss: 1.565162\n",
            "Train Epoch: 4 [42000/60000 (70%)]\tLoss: 1.577970\n",
            "Train Epoch: 4 [44000/60000 (73%)]\tLoss: 1.577979\n",
            "Train Epoch: 4 [46000/60000 (77%)]\tLoss: 1.533522\n",
            "Train Epoch: 4 [48000/60000 (80%)]\tLoss: 1.548340\n",
            "Train Epoch: 4 [50000/60000 (83%)]\tLoss: 1.518069\n",
            "Train Epoch: 4 [52000/60000 (87%)]\tLoss: 1.549597\n",
            "Train Epoch: 4 [54000/60000 (90%)]\tLoss: 1.553629\n",
            "Train Epoch: 4 [56000/60000 (93%)]\tLoss: 1.569984\n",
            "Train Epoch: 4 [58000/60000 (97%)]\tLoss: 1.540063\n",
            "\n",
            "Test set: Average loss: 0.0150, Accuracy: 9622/10000 (96%)\n",
            "\n",
            "Train Epoch: 5 [0/60000 (0%)]\tLoss: 1.557086\n",
            "Train Epoch: 5 [2000/60000 (3%)]\tLoss: 1.547706\n",
            "Train Epoch: 5 [4000/60000 (7%)]\tLoss: 1.526016\n",
            "Train Epoch: 5 [6000/60000 (10%)]\tLoss: 1.552278\n",
            "Train Epoch: 5 [8000/60000 (13%)]\tLoss: 1.592219\n",
            "Train Epoch: 5 [10000/60000 (17%)]\tLoss: 1.555127\n",
            "Train Epoch: 5 [12000/60000 (20%)]\tLoss: 1.554149\n",
            "Train Epoch: 5 [14000/60000 (23%)]\tLoss: 1.537508\n",
            "Train Epoch: 5 [16000/60000 (27%)]\tLoss: 1.485318\n",
            "Train Epoch: 5 [18000/60000 (30%)]\tLoss: 1.548897\n",
            "Train Epoch: 5 [20000/60000 (33%)]\tLoss: 1.509257\n",
            "Train Epoch: 5 [22000/60000 (37%)]\tLoss: 1.549085\n",
            "Train Epoch: 5 [24000/60000 (40%)]\tLoss: 1.610764\n",
            "Train Epoch: 5 [26000/60000 (43%)]\tLoss: 1.509737\n",
            "Train Epoch: 5 [28000/60000 (47%)]\tLoss: 1.511171\n",
            "Train Epoch: 5 [30000/60000 (50%)]\tLoss: 1.527485\n",
            "Train Epoch: 5 [32000/60000 (53%)]\tLoss: 1.562186\n",
            "Train Epoch: 5 [34000/60000 (57%)]\tLoss: 1.503895\n",
            "Train Epoch: 5 [36000/60000 (60%)]\tLoss: 1.551795\n",
            "Train Epoch: 5 [38000/60000 (63%)]\tLoss: 1.541451\n",
            "Train Epoch: 5 [40000/60000 (67%)]\tLoss: 1.500053\n",
            "Train Epoch: 5 [42000/60000 (70%)]\tLoss: 1.523583\n",
            "Train Epoch: 5 [44000/60000 (73%)]\tLoss: 1.506827\n",
            "Train Epoch: 5 [46000/60000 (77%)]\tLoss: 1.546213\n",
            "Train Epoch: 5 [48000/60000 (80%)]\tLoss: 1.540864\n",
            "Train Epoch: 5 [50000/60000 (83%)]\tLoss: 1.561455\n",
            "Train Epoch: 5 [52000/60000 (87%)]\tLoss: 1.512018\n",
            "Train Epoch: 5 [54000/60000 (90%)]\tLoss: 1.565988\n",
            "Train Epoch: 5 [56000/60000 (93%)]\tLoss: 1.545628\n",
            "Train Epoch: 5 [58000/60000 (97%)]\tLoss: 1.506225\n",
            "\n",
            "Test set: Average loss: 0.0149, Accuracy: 9670/10000 (97%)\n",
            "\n",
            "Train Epoch: 6 [0/60000 (0%)]\tLoss: 1.497138\n",
            "Train Epoch: 6 [2000/60000 (3%)]\tLoss: 1.538726\n",
            "Train Epoch: 6 [4000/60000 (7%)]\tLoss: 1.496059\n",
            "Train Epoch: 6 [6000/60000 (10%)]\tLoss: 1.533370\n",
            "Train Epoch: 6 [8000/60000 (13%)]\tLoss: 1.559229\n",
            "Train Epoch: 6 [10000/60000 (17%)]\tLoss: 1.518909\n",
            "Train Epoch: 6 [12000/60000 (20%)]\tLoss: 1.554573\n",
            "Train Epoch: 6 [14000/60000 (23%)]\tLoss: 1.521077\n",
            "Train Epoch: 6 [16000/60000 (27%)]\tLoss: 1.495288\n",
            "Train Epoch: 6 [18000/60000 (30%)]\tLoss: 1.556742\n",
            "Train Epoch: 6 [20000/60000 (33%)]\tLoss: 1.537483\n",
            "Train Epoch: 6 [22000/60000 (37%)]\tLoss: 1.527183\n",
            "Train Epoch: 6 [24000/60000 (40%)]\tLoss: 1.521968\n",
            "Train Epoch: 6 [26000/60000 (43%)]\tLoss: 1.535341\n",
            "Train Epoch: 6 [28000/60000 (47%)]\tLoss: 1.544763\n",
            "Train Epoch: 6 [30000/60000 (50%)]\tLoss: 1.505047\n",
            "Train Epoch: 6 [32000/60000 (53%)]\tLoss: 1.529650\n",
            "Train Epoch: 6 [34000/60000 (57%)]\tLoss: 1.573576\n",
            "Train Epoch: 6 [36000/60000 (60%)]\tLoss: 1.541085\n",
            "Train Epoch: 6 [38000/60000 (63%)]\tLoss: 1.555276\n",
            "Train Epoch: 6 [40000/60000 (67%)]\tLoss: 1.566401\n",
            "Train Epoch: 6 [42000/60000 (70%)]\tLoss: 1.494384\n",
            "Train Epoch: 6 [44000/60000 (73%)]\tLoss: 1.501112\n",
            "Train Epoch: 6 [46000/60000 (77%)]\tLoss: 1.526543\n",
            "Train Epoch: 6 [48000/60000 (80%)]\tLoss: 1.530477\n",
            "Train Epoch: 6 [50000/60000 (83%)]\tLoss: 1.574259\n",
            "Train Epoch: 6 [52000/60000 (87%)]\tLoss: 1.536870\n",
            "Train Epoch: 6 [54000/60000 (90%)]\tLoss: 1.576321\n",
            "Train Epoch: 6 [56000/60000 (93%)]\tLoss: 1.508015\n",
            "Train Epoch: 6 [58000/60000 (97%)]\tLoss: 1.536165\n",
            "\n",
            "Test set: Average loss: 0.0149, Accuracy: 9684/10000 (97%)\n",
            "\n",
            "Train Epoch: 7 [0/60000 (0%)]\tLoss: 1.534992\n",
            "Train Epoch: 7 [2000/60000 (3%)]\tLoss: 1.571811\n",
            "Train Epoch: 7 [4000/60000 (7%)]\tLoss: 1.532062\n",
            "Train Epoch: 7 [6000/60000 (10%)]\tLoss: 1.552377\n",
            "Train Epoch: 7 [8000/60000 (13%)]\tLoss: 1.504957\n",
            "Train Epoch: 7 [10000/60000 (17%)]\tLoss: 1.535514\n",
            "Train Epoch: 7 [12000/60000 (20%)]\tLoss: 1.520390\n",
            "Train Epoch: 7 [14000/60000 (23%)]\tLoss: 1.520364\n",
            "Train Epoch: 7 [16000/60000 (27%)]\tLoss: 1.519074\n",
            "Train Epoch: 7 [18000/60000 (30%)]\tLoss: 1.532546\n",
            "Train Epoch: 7 [20000/60000 (33%)]\tLoss: 1.528240\n",
            "Train Epoch: 7 [22000/60000 (37%)]\tLoss: 1.504190\n",
            "Train Epoch: 7 [24000/60000 (40%)]\tLoss: 1.583098\n",
            "Train Epoch: 7 [26000/60000 (43%)]\tLoss: 1.508240\n",
            "Train Epoch: 7 [28000/60000 (47%)]\tLoss: 1.568444\n",
            "Train Epoch: 7 [30000/60000 (50%)]\tLoss: 1.520062\n",
            "Train Epoch: 7 [32000/60000 (53%)]\tLoss: 1.535486\n",
            "Train Epoch: 7 [34000/60000 (57%)]\tLoss: 1.533967\n",
            "Train Epoch: 7 [36000/60000 (60%)]\tLoss: 1.554361\n",
            "Train Epoch: 7 [38000/60000 (63%)]\tLoss: 1.542510\n",
            "Train Epoch: 7 [40000/60000 (67%)]\tLoss: 1.542621\n",
            "Train Epoch: 7 [42000/60000 (70%)]\tLoss: 1.539145\n",
            "Train Epoch: 7 [44000/60000 (73%)]\tLoss: 1.527128\n",
            "Train Epoch: 7 [46000/60000 (77%)]\tLoss: 1.548115\n",
            "Train Epoch: 7 [48000/60000 (80%)]\tLoss: 1.502785\n",
            "Train Epoch: 7 [50000/60000 (83%)]\tLoss: 1.525182\n",
            "Train Epoch: 7 [52000/60000 (87%)]\tLoss: 1.533442\n",
            "Train Epoch: 7 [54000/60000 (90%)]\tLoss: 1.546079\n",
            "Train Epoch: 7 [56000/60000 (93%)]\tLoss: 1.597449\n",
            "Train Epoch: 7 [58000/60000 (97%)]\tLoss: 1.551120\n",
            "\n",
            "Test set: Average loss: 0.0149, Accuracy: 9709/10000 (97%)\n",
            "\n",
            "Train Epoch: 8 [0/60000 (0%)]\tLoss: 1.531286\n",
            "Train Epoch: 8 [2000/60000 (3%)]\tLoss: 1.521454\n",
            "Train Epoch: 8 [4000/60000 (7%)]\tLoss: 1.551106\n",
            "Train Epoch: 8 [6000/60000 (10%)]\tLoss: 1.494311\n",
            "Train Epoch: 8 [8000/60000 (13%)]\tLoss: 1.509765\n",
            "Train Epoch: 8 [10000/60000 (17%)]\tLoss: 1.544720\n",
            "Train Epoch: 8 [12000/60000 (20%)]\tLoss: 1.509222\n",
            "Train Epoch: 8 [14000/60000 (23%)]\tLoss: 1.552418\n",
            "Train Epoch: 8 [16000/60000 (27%)]\tLoss: 1.538970\n",
            "Train Epoch: 8 [18000/60000 (30%)]\tLoss: 1.534877\n",
            "Train Epoch: 8 [20000/60000 (33%)]\tLoss: 1.528540\n",
            "Train Epoch: 8 [22000/60000 (37%)]\tLoss: 1.505957\n",
            "Train Epoch: 8 [24000/60000 (40%)]\tLoss: 1.536613\n",
            "Train Epoch: 8 [26000/60000 (43%)]\tLoss: 1.540734\n",
            "Train Epoch: 8 [28000/60000 (47%)]\tLoss: 1.513733\n",
            "Train Epoch: 8 [30000/60000 (50%)]\tLoss: 1.555055\n",
            "Train Epoch: 8 [32000/60000 (53%)]\tLoss: 1.573295\n",
            "Train Epoch: 8 [34000/60000 (57%)]\tLoss: 1.508001\n",
            "Train Epoch: 8 [36000/60000 (60%)]\tLoss: 1.514549\n",
            "Train Epoch: 8 [38000/60000 (63%)]\tLoss: 1.527934\n",
            "Train Epoch: 8 [40000/60000 (67%)]\tLoss: 1.487361\n",
            "Train Epoch: 8 [42000/60000 (70%)]\tLoss: 1.558748\n",
            "Train Epoch: 8 [44000/60000 (73%)]\tLoss: 1.566338\n",
            "Train Epoch: 8 [46000/60000 (77%)]\tLoss: 1.528063\n",
            "Train Epoch: 8 [48000/60000 (80%)]\tLoss: 1.528928\n",
            "Train Epoch: 8 [50000/60000 (83%)]\tLoss: 1.567874\n",
            "Train Epoch: 8 [52000/60000 (87%)]\tLoss: 1.541969\n",
            "Train Epoch: 8 [54000/60000 (90%)]\tLoss: 1.543390\n",
            "Train Epoch: 8 [56000/60000 (93%)]\tLoss: 1.521946\n",
            "Train Epoch: 8 [58000/60000 (97%)]\tLoss: 1.552628\n",
            "\n",
            "Test set: Average loss: 0.0149, Accuracy: 9700/10000 (97%)\n",
            "\n",
            "Train Epoch: 9 [0/60000 (0%)]\tLoss: 1.538074\n",
            "Train Epoch: 9 [2000/60000 (3%)]\tLoss: 1.565662\n",
            "Train Epoch: 9 [4000/60000 (7%)]\tLoss: 1.509793\n",
            "Train Epoch: 9 [6000/60000 (10%)]\tLoss: 1.493630\n",
            "Train Epoch: 9 [8000/60000 (13%)]\tLoss: 1.531493\n",
            "Train Epoch: 9 [10000/60000 (17%)]\tLoss: 1.497384\n",
            "Train Epoch: 9 [12000/60000 (20%)]\tLoss: 1.510324\n",
            "Train Epoch: 9 [14000/60000 (23%)]\tLoss: 1.583221\n",
            "Train Epoch: 9 [16000/60000 (27%)]\tLoss: 1.516034\n",
            "Train Epoch: 9 [18000/60000 (30%)]\tLoss: 1.477038\n",
            "Train Epoch: 9 [20000/60000 (33%)]\tLoss: 1.491440\n",
            "Train Epoch: 9 [22000/60000 (37%)]\tLoss: 1.577625\n",
            "Train Epoch: 9 [24000/60000 (40%)]\tLoss: 1.546969\n",
            "Train Epoch: 9 [26000/60000 (43%)]\tLoss: 1.518034\n",
            "Train Epoch: 9 [28000/60000 (47%)]\tLoss: 1.529640\n",
            "Train Epoch: 9 [30000/60000 (50%)]\tLoss: 1.550904\n",
            "Train Epoch: 9 [32000/60000 (53%)]\tLoss: 1.497603\n",
            "Train Epoch: 9 [34000/60000 (57%)]\tLoss: 1.515134\n",
            "Train Epoch: 9 [36000/60000 (60%)]\tLoss: 1.520491\n",
            "Train Epoch: 9 [38000/60000 (63%)]\tLoss: 1.541229\n",
            "Train Epoch: 9 [40000/60000 (67%)]\tLoss: 1.525832\n",
            "Train Epoch: 9 [42000/60000 (70%)]\tLoss: 1.507419\n",
            "Train Epoch: 9 [44000/60000 (73%)]\tLoss: 1.490867\n",
            "Train Epoch: 9 [46000/60000 (77%)]\tLoss: 1.537556\n",
            "Train Epoch: 9 [48000/60000 (80%)]\tLoss: 1.519498\n",
            "Train Epoch: 9 [50000/60000 (83%)]\tLoss: 1.533119\n",
            "Train Epoch: 9 [52000/60000 (87%)]\tLoss: 1.544776\n",
            "Train Epoch: 9 [54000/60000 (90%)]\tLoss: 1.502482\n",
            "Train Epoch: 9 [56000/60000 (93%)]\tLoss: 1.536703\n",
            "Train Epoch: 9 [58000/60000 (97%)]\tLoss: 1.524627\n",
            "\n",
            "Test set: Average loss: 0.0149, Accuracy: 9725/10000 (97%)\n",
            "\n",
            "Train Epoch: 10 [0/60000 (0%)]\tLoss: 1.531331\n",
            "Train Epoch: 10 [2000/60000 (3%)]\tLoss: 1.517820\n",
            "Train Epoch: 10 [4000/60000 (7%)]\tLoss: 1.558433\n",
            "Train Epoch: 10 [6000/60000 (10%)]\tLoss: 1.518144\n",
            "Train Epoch: 10 [8000/60000 (13%)]\tLoss: 1.497083\n",
            "Train Epoch: 10 [10000/60000 (17%)]\tLoss: 1.516445\n",
            "Train Epoch: 10 [12000/60000 (20%)]\tLoss: 1.491078\n",
            "Train Epoch: 10 [14000/60000 (23%)]\tLoss: 1.525377\n",
            "Train Epoch: 10 [16000/60000 (27%)]\tLoss: 1.512276\n",
            "Train Epoch: 10 [18000/60000 (30%)]\tLoss: 1.540455\n",
            "Train Epoch: 10 [20000/60000 (33%)]\tLoss: 1.522373\n",
            "Train Epoch: 10 [22000/60000 (37%)]\tLoss: 1.550476\n",
            "Train Epoch: 10 [24000/60000 (40%)]\tLoss: 1.516845\n",
            "Train Epoch: 10 [26000/60000 (43%)]\tLoss: 1.513283\n",
            "Train Epoch: 10 [28000/60000 (47%)]\tLoss: 1.507570\n",
            "Train Epoch: 10 [30000/60000 (50%)]\tLoss: 1.533991\n",
            "Train Epoch: 10 [32000/60000 (53%)]\tLoss: 1.512549\n",
            "Train Epoch: 10 [34000/60000 (57%)]\tLoss: 1.531211\n",
            "Train Epoch: 10 [36000/60000 (60%)]\tLoss: 1.582795\n",
            "Train Epoch: 10 [38000/60000 (63%)]\tLoss: 1.518555\n",
            "Train Epoch: 10 [40000/60000 (67%)]\tLoss: 1.501827\n",
            "Train Epoch: 10 [42000/60000 (70%)]\tLoss: 1.493170\n",
            "Train Epoch: 10 [44000/60000 (73%)]\tLoss: 1.523174\n",
            "Train Epoch: 10 [46000/60000 (77%)]\tLoss: 1.547266\n",
            "Train Epoch: 10 [48000/60000 (80%)]\tLoss: 1.505459\n",
            "Train Epoch: 10 [50000/60000 (83%)]\tLoss: 1.507335\n",
            "Train Epoch: 10 [52000/60000 (87%)]\tLoss: 1.494705\n",
            "Train Epoch: 10 [54000/60000 (90%)]\tLoss: 1.516969\n",
            "Train Epoch: 10 [56000/60000 (93%)]\tLoss: 1.507458\n",
            "Train Epoch: 10 [58000/60000 (97%)]\tLoss: 1.491937\n",
            "\n",
            "Test set: Average loss: 0.0149, Accuracy: 9726/10000 (97%)\n",
            "\n"
          ]
        }
      ]
    },
    {
      "cell_type": "code",
      "source": [
        "device"
      ],
      "metadata": {
        "colab": {
          "base_uri": "https://localhost:8080/"
        },
        "id": "XWzZbK8_z6b7",
        "outputId": "d4f0c024-ec79-4741-8b90-71f0bae41b64"
      },
      "execution_count": 18,
      "outputs": [
        {
          "output_type": "execute_result",
          "data": {
            "text/plain": [
              "device(type='cpu')"
            ]
          },
          "metadata": {},
          "execution_count": 18
        }
      ]
    },
    {
      "cell_type": "code",
      "source": [
        "model.eval()\n",
        "\n",
        "data, target = test_data[0]\n",
        "\n",
        "data = data.unsqueeze(0).to(device)\n",
        "\n",
        "output = model(data)\n",
        "\n",
        "prediction = output.argmax(dim=1, keepdim=True).item()\n",
        "\n",
        "print(f'Prediction: {prediction}')\n",
        "\n",
        "image = data.squeeze(0).squeeze(0).cpu().numpy()\n",
        "\n",
        "plt.imshow(image, cmap='gray')\n",
        "plt.show()"
      ],
      "metadata": {
        "colab": {
          "base_uri": "https://localhost:8080/",
          "height": 504
        },
        "id": "l5A_5pal1B2P",
        "outputId": "fdf0ee29-c019-47ad-eec5-7d75f02d4d6e"
      },
      "execution_count": 20,
      "outputs": [
        {
          "output_type": "stream",
          "name": "stderr",
          "text": [
            "<ipython-input-14-4a31a2b00701>:19: UserWarning: Implicit dimension choice for softmax has been deprecated. Change the call to include dim=X as an argument.\n",
            "  return F.softmax(x)\n"
          ]
        },
        {
          "output_type": "stream",
          "name": "stdout",
          "text": [
            "Prediction: 7\n"
          ]
        },
        {
          "output_type": "display_data",
          "data": {
            "text/plain": [
              "<Figure size 640x480 with 1 Axes>"
            ],
            "image/png": "[encoded data removed]"
          },
          "metadata": {}
        }
      ]
    },
    {
      "cell_type": "code",
      "source": [
        "model.eval()\n",
        "\n",
        "for idx in range(10):\n",
        "    data, target = test_data[idx]\n",
        "    data = data.unsqueeze(0).to(device)\n",
        "    output = model(data)\n",
        "    prediction = output.argmax(dim=1, keepdim=True).item()\n",
        "    print(f'Image {idx + 1}: Prediction: {prediction}, True Label: {target}')\n",
        "    image = data.squeeze(0).squeeze(0).cpu().numpy()\n",
        "    plt.imshow(image, cmap='gray')\n",
        "    plt.title(f'Prediction: {prediction}')\n",
        "    plt.axis('off')\n",
        "    plt.show()"
      ],
      "metadata": {
        "colab": {
          "base_uri": "https://localhost:8080/",
          "height": 1000
        },
        "id": "0LIc5N6T1gaL",
        "outputId": "2252f1b1-a936-4b9e-de64-a162ddbdbf1b"
      },
      "execution_count": 23,
      "outputs": [
        {
          "output_type": "stream",
          "name": "stdout",
          "text": [
            "Image 1: Prediction: 7, True Label: 7\n"
          ]
        },
        {
          "output_type": "stream",
          "name": "stderr",
          "text": [
            "<ipython-input-14-4a31a2b00701>:19: UserWarning: Implicit dimension choice for softmax has been deprecated. Change the call to include dim=X as an argument.\n",
            "  return F.softmax(x)\n"
          ]
        },
        {
          "output_type": "display_data",
          "data": {
            "text/plain": [
              "<Figure size 640x480 with 1 Axes>"
            ],
            "image/png": "[encoded data removed]"
          },
          "metadata": {}
        },
        {
          "output_type": "stream",
          "name": "stdout",
          "text": [
            "Image 2: Prediction: 2, True Label: 2\n"
          ]
        },
        {
          "output_type": "display_data",
          "data": {
            "text/plain": [
              "<Figure size 640x480 with 1 Axes>"
            ],
            "image/png": "[encoded data removed]"
          },
          "metadata": {}
        },
        {
          "output_type": "stream",
          "name": "stdout",
          "text": [
            "Image 3: Prediction: 1, True Label: 1\n"
          ]
        },
        {
          "output_type": "display_data",
          "data": {
            "text/plain": [
              "<Figure size 640x480 with 1 Axes>"
            ],
            "image/png": "[encoded data removed]"
          },
          "metadata": {}
        },
        {
          "output_type": "stream",
          "name": "stdout",
          "text": [
            "Image 4: Prediction: 0, True Label: 0\n"
          ]
        },
        {
          "output_type": "display_data",
          "data": {
            "text/plain": [
              "<Figure size 640x480 with 1 Axes>"
            ],
            "image/png": "[encoded data removed]"
          },
          "metadata": {}
        },
        {
          "output_type": "stream",
          "name": "stdout",
          "text": [
            "Image 5: Prediction: 4, True Label: 4\n"
          ]
        },
        {
          "output_type": "display_data",
          "data": {
            "text/plain": [
              "<Figure size 640x480 with 1 Axes>"
            ],
            "image/png": "[encoded data removed]"
          },
          "metadata": {}
        },
        {
          "output_type": "stream",
          "name": "stdout",
          "text": [
            "Image 6: Prediction: 1, True Label: 1\n"
          ]
        },
        {
          "output_type": "display_data",
          "data": {
            "text/plain": [
              "<Figure size 640x480 with 1 Axes>"
            ],
            "image/png": "[encoded data removed]"
          },
          "metadata": {}
        },
        {
          "output_type": "stream",
          "name": "stdout",
          "text": [
            "Image 7: Prediction: 4, True Label: 4\n"
          ]
        },
        {
          "output_type": "display_data",
          "data": {
            "text/plain": [
              "<Figure size 640x480 with 1 Axes>"
            ],
            "image/png": "[encoded data removed]"
          },
          "metadata": {}
        },
        {
          "output_type": "stream",
          "name": "stdout",
          "text": [
            "Image 8: Prediction: 9, True Label: 9\n"
          ]
        },
        {
          "output_type": "display_data",
          "data": {
            "text/plain": [
              "<Figure size 640x480 with 1 Axes>"
            ],
            "image/png": "[encoded data removed]"
          },
          "metadata": {}
        },
        {
          "output_type": "stream",
          "name": "stdout",
          "text": [
            "Image 9: Prediction: 5, True Label: 5\n"
          ]
        },
        {
          "output_type": "display_data",
          "data": {
            "text/plain": [
              "<Figure size 640x480 with 1 Axes>"
            ],
            "image/png": "[encoded data removed]"
          },
          "metadata": {}
        },
        {
          "output_type": "stream",
          "name": "stdout",
          "text": [
            "Image 10: Prediction: 9, True Label: 9\n"
          ]
        },
        {
          "output_type": "display_data",
          "data": {
            "text/plain": [
              "<Figure size 640x480 with 1 Axes>"
            ],
            "image/png": "[encoded data removed]"
          },
          "metadata": {}
        }
      ]
    },
    {
      "cell_type": "code",
      "source": [],
      "metadata": {
        "id": "2rhKTtLS17fP"
      },
      "execution_count": null,
      "outputs": []
    }
  ]
}